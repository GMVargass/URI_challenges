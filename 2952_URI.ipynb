{
 "cells": [
  {
   "cell_type": "markdown",
   "id": "84407226",
   "metadata": {},
   "source": [
    "**Input**\n",
    "\n",
    "7\n",
    "\n",
    "A C S P M K B\n",
    "\n",
    "**Output**\n",
    "\n",
    "13770 -13550"
   ]
  },
  {
   "cell_type": "markdown",
   "id": "890cee91",
   "metadata": {},
   "source": [
    "**Input**\n",
    "\n",
    "3\n",
    "\n",
    "C N C\n",
    "\n",
    "**Output**\n",
    "\n",
    "-13500 -27000"
   ]
  },
  {
   "cell_type": "markdown",
   "id": "2ad95fe6",
   "metadata": {},
   "source": [
    "### Code"
   ]
  },
  {
   "cell_type": "code",
   "execution_count": 1,
   "id": "0bd5a203",
   "metadata": {},
   "outputs": [
    {
     "name": "stdout",
     "output_type": "stream",
     "text": [
      "7\n",
      "A C S P M K B\n",
      "13770 -13550\n"
     ]
    }
   ],
   "source": [
    "def MaxMinSum(numbers):\n",
    "    \n",
    "    bestSum, worstSum, currentMaxSum, currentMinSum = 0,0,0,0\n",
    "\n",
    "    if all(n < 0 for n in numbers):\n",
    "        bestSum = max(numbers)\n",
    "        worstSum = sum(numbers)\n",
    "    elif all(n > 0 for n in numbers):\n",
    "        bestSum = sum(numbers)\n",
    "        worstSum = min(numbers)\n",
    "    else:\n",
    "        for x in numbers:\n",
    "\n",
    "            currentMaxSum = max(0, currentMaxSum + x)\n",
    "            bestSum = max(bestSum, currentMaxSum)\n",
    "\n",
    "            currentMinSum = min(0, currentMinSum + x) \n",
    "            worstSum = min(worstSum, currentMinSum)\n",
    "    print('{} {}'.format(bestSum, worstSum))\n",
    "\n",
    "\n",
    "N = int(input())\n",
    "line = input()\n",
    "\n",
    "def findValues(N, line):\n",
    "    \n",
    "    line = line.replace(' ', '')\n",
    "    dictValues = {'A': 1650-1700, 'C': 2000-15500, 'S': 2000-1800, \n",
    "              'M': 1000-450, 'P': 13000-0, 'K': 80-100, 'B': 40-0}\n",
    "    \n",
    "    if line.count('N') == len(line):\n",
    "        print('0' + ' ' + '0')\n",
    "    else:\n",
    "        values = [dictValues[line[i]] for i in range(N) if line[i] != 'N']\n",
    "        MaxMinSum(values)\n",
    "\n",
    "    \n",
    "findValues(N, line)"
   ]
  }
 ],
 "metadata": {
  "kernelspec": {
   "display_name": "Python 3 (ipykernel)",
   "language": "python",
   "name": "python3"
  },
  "language_info": {
   "codemirror_mode": {
    "name": "ipython",
    "version": 3
   },
   "file_extension": ".py",
   "mimetype": "text/x-python",
   "name": "python",
   "nbconvert_exporter": "python",
   "pygments_lexer": "ipython3",
   "version": "3.8.10"
  }
 },
 "nbformat": 4,
 "nbformat_minor": 5
}
